{
  "nbformat": 4,
  "nbformat_minor": 0,
  "metadata": {
    "colab": {
      "name": "TMDB_Pred.ipynb",
      "version": "0.3.2",
      "provenance": [],
      "collapsed_sections": [],
      "include_colab_link": true
    },
    "kernelspec": {
      "name": "python3",
      "display_name": "Python 3"
    }
  },
  "cells": [
    {
      "cell_type": "markdown",
      "metadata": {
        "id": "view-in-github",
        "colab_type": "text"
      },
      "source": [
        "<a href=\"https://colab.research.google.com/github/12sam158/tf2019/blob/master/TMDB_Pred.ipynb\" target=\"_parent\"><img src=\"https://colab.research.google.com/assets/colab-badge.svg\" alt=\"Open In Colab\"/></a>"
      ]
    },
    {
      "metadata": {
        "id": "KYKC0upGlCXR",
        "colab_type": "code",
        "outputId": "539c9a6f-9420-4113-b848-8ced9c6d2288",
        "colab": {
          "base_uri": "https://localhost:8080/",
          "height": 411
        }
      },
      "cell_type": "code",
      "source": [
        "#import data files from repository\n",
        "!wget https://raw.githubusercontent.com/12sam158/tf2019/master/test.csv\n",
        "!wget https://raw.githubusercontent.com/12sam158/tf2019/master/train.csv\n",
        "      "
      ],
      "execution_count": 0,
      "outputs": [
        {
          "output_type": "stream",
          "text": [
            "--2019-04-29 16:02:02--  https://raw.githubusercontent.com/12sam158/tf2019/master/test.csv\n",
            "Resolving raw.githubusercontent.com (raw.githubusercontent.com)... 151.101.0.133, 151.101.64.133, 151.101.128.133, ...\n",
            "Connecting to raw.githubusercontent.com (raw.githubusercontent.com)|151.101.0.133|:443... connected.\n",
            "HTTP request sent, awaiting response... 200 OK\n",
            "Length: 41864158 (40M) [text/plain]\n",
            "Saving to: ‘test.csv.1’\n",
            "\n",
            "\rtest.csv.1            0%[                    ]       0  --.-KB/s               \rtest.csv.1           75%[==============>     ]  30.02M   150MB/s               \rtest.csv.1          100%[===================>]  39.92M   168MB/s    in 0.2s    \n",
            "\n",
            "2019-04-29 16:02:03 (168 MB/s) - ‘test.csv.1’ saved [41864158/41864158]\n",
            "\n",
            "--2019-04-29 16:02:03--  https://raw.githubusercontent.com/12sam158/tf2019/master/train.csv\n",
            "Resolving raw.githubusercontent.com (raw.githubusercontent.com)... 151.101.0.133, 151.101.64.133, 151.101.128.133, ...\n",
            "Connecting to raw.githubusercontent.com (raw.githubusercontent.com)|151.101.0.133|:443... connected.\n",
            "HTTP request sent, awaiting response... 200 OK\n",
            "Length: 28308747 (27M) [text/plain]\n",
            "Saving to: ‘train.csv.1’\n",
            "\n",
            "train.csv.1         100%[===================>]  27.00M   158MB/s    in 0.2s    \n",
            "\n",
            "2019-04-29 16:02:04 (158 MB/s) - ‘train.csv.1’ saved [28308747/28308747]\n",
            "\n"
          ],
          "name": "stdout"
        }
      ]
    },
    {
      "metadata": {
        "id": "NrEOvoI2lmFc",
        "colab_type": "code",
        "colab": {}
      },
      "cell_type": "code",
      "source": [
        "import pandas as pd\n",
        "import numpy as np\n",
        "import seaborn as sns"
      ],
      "execution_count": 0,
      "outputs": []
    },
    {
      "metadata": {
        "id": "38-31FX5KPp7",
        "colab_type": "code",
        "colab": {}
      },
      "cell_type": "code",
      "source": [
        "#Create pandas dataframes for test and train\n",
        "train= pd.read_csv('train.csv')\n",
        "test = pd.read_csv('test.csv')"
      ],
      "execution_count": 0,
      "outputs": []
    },
    {
      "metadata": {
        "colab_type": "code",
        "outputId": "91820dfa-8076-4744-8ff6-248aa048c518",
        "id": "p5fbUIcl646Z",
        "colab": {
          "base_uri": "https://localhost:8080/",
          "height": 661
        }
      },
      "cell_type": "code",
      "source": [
        "train.head()"
      ],
      "execution_count": 0,
      "outputs": [
        {
          "output_type": "execute_result",
          "data": {
            "text/html": [
              "<div>\n",
              "<style scoped>\n",
              "    .dataframe tbody tr th:only-of-type {\n",
              "        vertical-align: middle;\n",
              "    }\n",
              "\n",
              "    .dataframe tbody tr th {\n",
              "        vertical-align: top;\n",
              "    }\n",
              "\n",
              "    .dataframe thead th {\n",
              "        text-align: right;\n",
              "    }\n",
              "</style>\n",
              "<table border=\"1\" class=\"dataframe\">\n",
              "  <thead>\n",
              "    <tr style=\"text-align: right;\">\n",
              "      <th></th>\n",
              "      <th>id</th>\n",
              "      <th>belongs_to_collection</th>\n",
              "      <th>budget</th>\n",
              "      <th>genres</th>\n",
              "      <th>homepage</th>\n",
              "      <th>imdb_id</th>\n",
              "      <th>original_language</th>\n",
              "      <th>original_title</th>\n",
              "      <th>overview</th>\n",
              "      <th>popularity</th>\n",
              "      <th>...</th>\n",
              "      <th>release_date</th>\n",
              "      <th>runtime</th>\n",
              "      <th>spoken_languages</th>\n",
              "      <th>status</th>\n",
              "      <th>tagline</th>\n",
              "      <th>title</th>\n",
              "      <th>Keywords</th>\n",
              "      <th>cast</th>\n",
              "      <th>crew</th>\n",
              "      <th>revenue</th>\n",
              "    </tr>\n",
              "  </thead>\n",
              "  <tbody>\n",
              "    <tr>\n",
              "      <th>0</th>\n",
              "      <td>1</td>\n",
              "      <td>[{'id': 313576, 'name': 'Hot Tub Time Machine ...</td>\n",
              "      <td>14000000</td>\n",
              "      <td>[{'id': 35, 'name': 'Comedy'}]</td>\n",
              "      <td>NaN</td>\n",
              "      <td>tt2637294</td>\n",
              "      <td>en</td>\n",
              "      <td>Hot Tub Time Machine 2</td>\n",
              "      <td>When Lou, who has become the \"father of the In...</td>\n",
              "      <td>6.575393</td>\n",
              "      <td>...</td>\n",
              "      <td>2/20/15</td>\n",
              "      <td>93.0</td>\n",
              "      <td>[{'iso_639_1': 'en', 'name': 'English'}]</td>\n",
              "      <td>Released</td>\n",
              "      <td>The Laws of Space and Time are About to be Vio...</td>\n",
              "      <td>Hot Tub Time Machine 2</td>\n",
              "      <td>[{'id': 4379, 'name': 'time travel'}, {'id': 9...</td>\n",
              "      <td>[{'cast_id': 4, 'character': 'Lou', 'credit_id...</td>\n",
              "      <td>[{'credit_id': '59ac067c92514107af02c8c8', 'de...</td>\n",
              "      <td>12314651</td>\n",
              "    </tr>\n",
              "    <tr>\n",
              "      <th>1</th>\n",
              "      <td>2</td>\n",
              "      <td>[{'id': 107674, 'name': 'The Princess Diaries ...</td>\n",
              "      <td>40000000</td>\n",
              "      <td>[{'id': 35, 'name': 'Comedy'}, {'id': 18, 'nam...</td>\n",
              "      <td>NaN</td>\n",
              "      <td>tt0368933</td>\n",
              "      <td>en</td>\n",
              "      <td>The Princess Diaries 2: Royal Engagement</td>\n",
              "      <td>Mia Thermopolis is now a college graduate and ...</td>\n",
              "      <td>8.248895</td>\n",
              "      <td>...</td>\n",
              "      <td>8/6/04</td>\n",
              "      <td>113.0</td>\n",
              "      <td>[{'iso_639_1': 'en', 'name': 'English'}]</td>\n",
              "      <td>Released</td>\n",
              "      <td>It can take a lifetime to find true love; she'...</td>\n",
              "      <td>The Princess Diaries 2: Royal Engagement</td>\n",
              "      <td>[{'id': 2505, 'name': 'coronation'}, {'id': 42...</td>\n",
              "      <td>[{'cast_id': 1, 'character': 'Mia Thermopolis'...</td>\n",
              "      <td>[{'credit_id': '52fe43fe9251416c7502563d', 'de...</td>\n",
              "      <td>95149435</td>\n",
              "    </tr>\n",
              "    <tr>\n",
              "      <th>2</th>\n",
              "      <td>3</td>\n",
              "      <td>NaN</td>\n",
              "      <td>3300000</td>\n",
              "      <td>[{'id': 18, 'name': 'Drama'}]</td>\n",
              "      <td>http://sonyclassics.com/whiplash/</td>\n",
              "      <td>tt2582802</td>\n",
              "      <td>en</td>\n",
              "      <td>Whiplash</td>\n",
              "      <td>Under the direction of a ruthless instructor, ...</td>\n",
              "      <td>64.299990</td>\n",
              "      <td>...</td>\n",
              "      <td>10/10/14</td>\n",
              "      <td>105.0</td>\n",
              "      <td>[{'iso_639_1': 'en', 'name': 'English'}]</td>\n",
              "      <td>Released</td>\n",
              "      <td>The road to greatness can take you to the edge.</td>\n",
              "      <td>Whiplash</td>\n",
              "      <td>[{'id': 1416, 'name': 'jazz'}, {'id': 1523, 'n...</td>\n",
              "      <td>[{'cast_id': 5, 'character': 'Andrew Neimann',...</td>\n",
              "      <td>[{'credit_id': '54d5356ec3a3683ba0000039', 'de...</td>\n",
              "      <td>13092000</td>\n",
              "    </tr>\n",
              "    <tr>\n",
              "      <th>3</th>\n",
              "      <td>4</td>\n",
              "      <td>NaN</td>\n",
              "      <td>1200000</td>\n",
              "      <td>[{'id': 53, 'name': 'Thriller'}, {'id': 18, 'n...</td>\n",
              "      <td>http://kahaanithefilm.com/</td>\n",
              "      <td>tt1821480</td>\n",
              "      <td>hi</td>\n",
              "      <td>Kahaani</td>\n",
              "      <td>Vidya Bagchi (Vidya Balan) arrives in Kolkata ...</td>\n",
              "      <td>3.174936</td>\n",
              "      <td>...</td>\n",
              "      <td>3/9/12</td>\n",
              "      <td>122.0</td>\n",
              "      <td>[{'iso_639_1': 'en', 'name': 'English'}, {'iso...</td>\n",
              "      <td>Released</td>\n",
              "      <td>NaN</td>\n",
              "      <td>Kahaani</td>\n",
              "      <td>[{'id': 10092, 'name': 'mystery'}, {'id': 1054...</td>\n",
              "      <td>[{'cast_id': 1, 'character': 'Vidya Bagchi', '...</td>\n",
              "      <td>[{'credit_id': '52fe48779251416c9108d6eb', 'de...</td>\n",
              "      <td>16000000</td>\n",
              "    </tr>\n",
              "    <tr>\n",
              "      <th>4</th>\n",
              "      <td>5</td>\n",
              "      <td>NaN</td>\n",
              "      <td>0</td>\n",
              "      <td>[{'id': 28, 'name': 'Action'}, {'id': 53, 'nam...</td>\n",
              "      <td>NaN</td>\n",
              "      <td>tt1380152</td>\n",
              "      <td>ko</td>\n",
              "      <td>마린보이</td>\n",
              "      <td>Marine Boy is the story of a former national s...</td>\n",
              "      <td>1.148070</td>\n",
              "      <td>...</td>\n",
              "      <td>2/5/09</td>\n",
              "      <td>118.0</td>\n",
              "      <td>[{'iso_639_1': 'ko', 'name': '한국어/조선말'}]</td>\n",
              "      <td>Released</td>\n",
              "      <td>NaN</td>\n",
              "      <td>Marine Boy</td>\n",
              "      <td>NaN</td>\n",
              "      <td>[{'cast_id': 3, 'character': 'Chun-soo', 'cred...</td>\n",
              "      <td>[{'credit_id': '52fe464b9251416c75073b43', 'de...</td>\n",
              "      <td>3923970</td>\n",
              "    </tr>\n",
              "  </tbody>\n",
              "</table>\n",
              "<p>5 rows × 23 columns</p>\n",
              "</div>"
            ],
            "text/plain": [
              "   id                              belongs_to_collection    budget  \\\n",
              "0   1  [{'id': 313576, 'name': 'Hot Tub Time Machine ...  14000000   \n",
              "1   2  [{'id': 107674, 'name': 'The Princess Diaries ...  40000000   \n",
              "2   3                                                NaN   3300000   \n",
              "3   4                                                NaN   1200000   \n",
              "4   5                                                NaN         0   \n",
              "\n",
              "                                              genres  \\\n",
              "0                     [{'id': 35, 'name': 'Comedy'}]   \n",
              "1  [{'id': 35, 'name': 'Comedy'}, {'id': 18, 'nam...   \n",
              "2                      [{'id': 18, 'name': 'Drama'}]   \n",
              "3  [{'id': 53, 'name': 'Thriller'}, {'id': 18, 'n...   \n",
              "4  [{'id': 28, 'name': 'Action'}, {'id': 53, 'nam...   \n",
              "\n",
              "                            homepage    imdb_id original_language  \\\n",
              "0                                NaN  tt2637294                en   \n",
              "1                                NaN  tt0368933                en   \n",
              "2  http://sonyclassics.com/whiplash/  tt2582802                en   \n",
              "3         http://kahaanithefilm.com/  tt1821480                hi   \n",
              "4                                NaN  tt1380152                ko   \n",
              "\n",
              "                             original_title  \\\n",
              "0                    Hot Tub Time Machine 2   \n",
              "1  The Princess Diaries 2: Royal Engagement   \n",
              "2                                  Whiplash   \n",
              "3                                   Kahaani   \n",
              "4                                      마린보이   \n",
              "\n",
              "                                            overview  popularity  ...  \\\n",
              "0  When Lou, who has become the \"father of the In...    6.575393  ...   \n",
              "1  Mia Thermopolis is now a college graduate and ...    8.248895  ...   \n",
              "2  Under the direction of a ruthless instructor, ...   64.299990  ...   \n",
              "3  Vidya Bagchi (Vidya Balan) arrives in Kolkata ...    3.174936  ...   \n",
              "4  Marine Boy is the story of a former national s...    1.148070  ...   \n",
              "\n",
              "  release_date runtime                                   spoken_languages  \\\n",
              "0      2/20/15    93.0           [{'iso_639_1': 'en', 'name': 'English'}]   \n",
              "1       8/6/04   113.0           [{'iso_639_1': 'en', 'name': 'English'}]   \n",
              "2     10/10/14   105.0           [{'iso_639_1': 'en', 'name': 'English'}]   \n",
              "3       3/9/12   122.0  [{'iso_639_1': 'en', 'name': 'English'}, {'iso...   \n",
              "4       2/5/09   118.0           [{'iso_639_1': 'ko', 'name': '한국어/조선말'}]   \n",
              "\n",
              "     status                                            tagline  \\\n",
              "0  Released  The Laws of Space and Time are About to be Vio...   \n",
              "1  Released  It can take a lifetime to find true love; she'...   \n",
              "2  Released    The road to greatness can take you to the edge.   \n",
              "3  Released                                                NaN   \n",
              "4  Released                                                NaN   \n",
              "\n",
              "                                      title  \\\n",
              "0                    Hot Tub Time Machine 2   \n",
              "1  The Princess Diaries 2: Royal Engagement   \n",
              "2                                  Whiplash   \n",
              "3                                   Kahaani   \n",
              "4                                Marine Boy   \n",
              "\n",
              "                                            Keywords  \\\n",
              "0  [{'id': 4379, 'name': 'time travel'}, {'id': 9...   \n",
              "1  [{'id': 2505, 'name': 'coronation'}, {'id': 42...   \n",
              "2  [{'id': 1416, 'name': 'jazz'}, {'id': 1523, 'n...   \n",
              "3  [{'id': 10092, 'name': 'mystery'}, {'id': 1054...   \n",
              "4                                                NaN   \n",
              "\n",
              "                                                cast  \\\n",
              "0  [{'cast_id': 4, 'character': 'Lou', 'credit_id...   \n",
              "1  [{'cast_id': 1, 'character': 'Mia Thermopolis'...   \n",
              "2  [{'cast_id': 5, 'character': 'Andrew Neimann',...   \n",
              "3  [{'cast_id': 1, 'character': 'Vidya Bagchi', '...   \n",
              "4  [{'cast_id': 3, 'character': 'Chun-soo', 'cred...   \n",
              "\n",
              "                                                crew   revenue  \n",
              "0  [{'credit_id': '59ac067c92514107af02c8c8', 'de...  12314651  \n",
              "1  [{'credit_id': '52fe43fe9251416c7502563d', 'de...  95149435  \n",
              "2  [{'credit_id': '54d5356ec3a3683ba0000039', 'de...  13092000  \n",
              "3  [{'credit_id': '52fe48779251416c9108d6eb', 'de...  16000000  \n",
              "4  [{'credit_id': '52fe464b9251416c75073b43', 'de...   3923970  \n",
              "\n",
              "[5 rows x 23 columns]"
            ]
          },
          "metadata": {
            "tags": []
          },
          "execution_count": 4
        }
      ]
    },
    {
      "metadata": {
        "id": "bV_YBY_YjUVF",
        "colab_type": "code",
        "outputId": "bb7455dc-3cad-4bfe-b15a-d091f8b725bb",
        "colab": {
          "base_uri": "https://localhost:8080/",
          "height": 644
        }
      },
      "cell_type": "code",
      "source": [
        "test.head()"
      ],
      "execution_count": 0,
      "outputs": [
        {
          "output_type": "execute_result",
          "data": {
            "text/html": [
              "<div>\n",
              "<style scoped>\n",
              "    .dataframe tbody tr th:only-of-type {\n",
              "        vertical-align: middle;\n",
              "    }\n",
              "\n",
              "    .dataframe tbody tr th {\n",
              "        vertical-align: top;\n",
              "    }\n",
              "\n",
              "    .dataframe thead th {\n",
              "        text-align: right;\n",
              "    }\n",
              "</style>\n",
              "<table border=\"1\" class=\"dataframe\">\n",
              "  <thead>\n",
              "    <tr style=\"text-align: right;\">\n",
              "      <th></th>\n",
              "      <th>id</th>\n",
              "      <th>belongs_to_collection</th>\n",
              "      <th>budget</th>\n",
              "      <th>genres</th>\n",
              "      <th>homepage</th>\n",
              "      <th>imdb_id</th>\n",
              "      <th>original_language</th>\n",
              "      <th>original_title</th>\n",
              "      <th>overview</th>\n",
              "      <th>popularity</th>\n",
              "      <th>...</th>\n",
              "      <th>production_countries</th>\n",
              "      <th>release_date</th>\n",
              "      <th>runtime</th>\n",
              "      <th>spoken_languages</th>\n",
              "      <th>status</th>\n",
              "      <th>tagline</th>\n",
              "      <th>title</th>\n",
              "      <th>Keywords</th>\n",
              "      <th>cast</th>\n",
              "      <th>crew</th>\n",
              "    </tr>\n",
              "  </thead>\n",
              "  <tbody>\n",
              "    <tr>\n",
              "      <th>0</th>\n",
              "      <td>3001</td>\n",
              "      <td>[{'id': 34055, 'name': 'Pokémon Collection', '...</td>\n",
              "      <td>0</td>\n",
              "      <td>[{'id': 12, 'name': 'Adventure'}, {'id': 16, '...</td>\n",
              "      <td>http://www.pokemon.com/us/movies/movie-pokemon...</td>\n",
              "      <td>tt1226251</td>\n",
              "      <td>ja</td>\n",
              "      <td>ディアルガVSパルキアVSダークライ</td>\n",
              "      <td>Ash and friends (this time accompanied by newc...</td>\n",
              "      <td>3.851534</td>\n",
              "      <td>...</td>\n",
              "      <td>[{'iso_3166_1': 'JP', 'name': 'Japan'}, {'iso_...</td>\n",
              "      <td>7/14/07</td>\n",
              "      <td>90.0</td>\n",
              "      <td>[{'iso_639_1': 'en', 'name': 'English'}, {'iso...</td>\n",
              "      <td>Released</td>\n",
              "      <td>Somewhere Between Time &amp; Space... A Legend Is ...</td>\n",
              "      <td>Pokémon: The Rise of Darkrai</td>\n",
              "      <td>[{'id': 11451, 'name': 'pok√©mon'}, {'id': 115...</td>\n",
              "      <td>[{'cast_id': 3, 'character': 'Tonio', 'credit_...</td>\n",
              "      <td>[{'credit_id': '52fe44e7c3a368484e03d683', 'de...</td>\n",
              "    </tr>\n",
              "    <tr>\n",
              "      <th>1</th>\n",
              "      <td>3002</td>\n",
              "      <td>NaN</td>\n",
              "      <td>88000</td>\n",
              "      <td>[{'id': 27, 'name': 'Horror'}, {'id': 878, 'na...</td>\n",
              "      <td>NaN</td>\n",
              "      <td>tt0051380</td>\n",
              "      <td>en</td>\n",
              "      <td>Attack of the 50 Foot Woman</td>\n",
              "      <td>When an abused wife grows to giant size becaus...</td>\n",
              "      <td>3.559789</td>\n",
              "      <td>...</td>\n",
              "      <td>[{'iso_3166_1': 'US', 'name': 'United States o...</td>\n",
              "      <td>5/19/58</td>\n",
              "      <td>65.0</td>\n",
              "      <td>[{'iso_639_1': 'en', 'name': 'English'}]</td>\n",
              "      <td>Released</td>\n",
              "      <td>A titanic beauty spreads a macabre wave of hor...</td>\n",
              "      <td>Attack of the 50 Foot Woman</td>\n",
              "      <td>[{'id': 9748, 'name': 'revenge'}, {'id': 9951,...</td>\n",
              "      <td>[{'cast_id': 2, 'character': 'Nancy Fowler Arc...</td>\n",
              "      <td>[{'credit_id': '55807805c3a3685b1300060b', 'de...</td>\n",
              "    </tr>\n",
              "    <tr>\n",
              "      <th>2</th>\n",
              "      <td>3003</td>\n",
              "      <td>NaN</td>\n",
              "      <td>0</td>\n",
              "      <td>[{'id': 35, 'name': 'Comedy'}, {'id': 10749, '...</td>\n",
              "      <td>NaN</td>\n",
              "      <td>tt0118556</td>\n",
              "      <td>en</td>\n",
              "      <td>Addicted to Love</td>\n",
              "      <td>Good-natured astronomer Sam is devastated when...</td>\n",
              "      <td>8.085194</td>\n",
              "      <td>...</td>\n",
              "      <td>[{'iso_3166_1': 'US', 'name': 'United States o...</td>\n",
              "      <td>5/23/97</td>\n",
              "      <td>100.0</td>\n",
              "      <td>[{'iso_639_1': 'en', 'name': 'English'}]</td>\n",
              "      <td>Released</td>\n",
              "      <td>A Comedy About Lost Loves And Last Laughs</td>\n",
              "      <td>Addicted to Love</td>\n",
              "      <td>[{'id': 931, 'name': 'jealousy'}, {'id': 9673,...</td>\n",
              "      <td>[{'cast_id': 11, 'character': 'Maggie', 'credi...</td>\n",
              "      <td>[{'credit_id': '52fe4330c3a36847f8041367', 'de...</td>\n",
              "    </tr>\n",
              "    <tr>\n",
              "      <th>3</th>\n",
              "      <td>3004</td>\n",
              "      <td>NaN</td>\n",
              "      <td>6800000</td>\n",
              "      <td>[{'id': 18, 'name': 'Drama'}, {'id': 10752, 'n...</td>\n",
              "      <td>http://www.sonyclassics.com/incendies/</td>\n",
              "      <td>tt1255953</td>\n",
              "      <td>fr</td>\n",
              "      <td>Incendies</td>\n",
              "      <td>A mother's last wishes send twins Jeanne and S...</td>\n",
              "      <td>8.596012</td>\n",
              "      <td>...</td>\n",
              "      <td>[{'iso_3166_1': 'CA', 'name': 'Canada'}, {'iso...</td>\n",
              "      <td>9/4/10</td>\n",
              "      <td>130.0</td>\n",
              "      <td>[{'iso_639_1': 'fr', 'name': 'Français'}, {'is...</td>\n",
              "      <td>Released</td>\n",
              "      <td>The search began at the opening of their mothe...</td>\n",
              "      <td>Incendies</td>\n",
              "      <td>[{'id': 378, 'name': 'prison'}, {'id': 539, 'n...</td>\n",
              "      <td>[{'cast_id': 6, 'character': 'Nawal', 'credit_...</td>\n",
              "      <td>[{'credit_id': '56478092c3a36826140043af', 'de...</td>\n",
              "    </tr>\n",
              "    <tr>\n",
              "      <th>4</th>\n",
              "      <td>3005</td>\n",
              "      <td>NaN</td>\n",
              "      <td>2000000</td>\n",
              "      <td>[{'id': 36, 'name': 'History'}, {'id': 99, 'na...</td>\n",
              "      <td>NaN</td>\n",
              "      <td>tt0418753</td>\n",
              "      <td>en</td>\n",
              "      <td>Inside Deep Throat</td>\n",
              "      <td>In 1972, a seemingly typical shoestring budget...</td>\n",
              "      <td>3.217680</td>\n",
              "      <td>...</td>\n",
              "      <td>[{'iso_3166_1': 'US', 'name': 'United States o...</td>\n",
              "      <td>2/11/05</td>\n",
              "      <td>92.0</td>\n",
              "      <td>[{'iso_639_1': 'en', 'name': 'English'}]</td>\n",
              "      <td>Released</td>\n",
              "      <td>It was filmed in 6 days for 25 thousand dollar...</td>\n",
              "      <td>Inside Deep Throat</td>\n",
              "      <td>[{'id': 279, 'name': 'usa'}, {'id': 1228, 'nam...</td>\n",
              "      <td>[{'cast_id': 1, 'character': 'Narrator (voice)...</td>\n",
              "      <td>[{'credit_id': '52fe44ce9251416c75041967', 'de...</td>\n",
              "    </tr>\n",
              "  </tbody>\n",
              "</table>\n",
              "<p>5 rows × 22 columns</p>\n",
              "</div>"
            ],
            "text/plain": [
              "     id                              belongs_to_collection   budget  \\\n",
              "0  3001  [{'id': 34055, 'name': 'Pokémon Collection', '...        0   \n",
              "1  3002                                                NaN    88000   \n",
              "2  3003                                                NaN        0   \n",
              "3  3004                                                NaN  6800000   \n",
              "4  3005                                                NaN  2000000   \n",
              "\n",
              "                                              genres  \\\n",
              "0  [{'id': 12, 'name': 'Adventure'}, {'id': 16, '...   \n",
              "1  [{'id': 27, 'name': 'Horror'}, {'id': 878, 'na...   \n",
              "2  [{'id': 35, 'name': 'Comedy'}, {'id': 10749, '...   \n",
              "3  [{'id': 18, 'name': 'Drama'}, {'id': 10752, 'n...   \n",
              "4  [{'id': 36, 'name': 'History'}, {'id': 99, 'na...   \n",
              "\n",
              "                                            homepage    imdb_id  \\\n",
              "0  http://www.pokemon.com/us/movies/movie-pokemon...  tt1226251   \n",
              "1                                                NaN  tt0051380   \n",
              "2                                                NaN  tt0118556   \n",
              "3             http://www.sonyclassics.com/incendies/  tt1255953   \n",
              "4                                                NaN  tt0418753   \n",
              "\n",
              "  original_language               original_title  \\\n",
              "0                ja           ディアルガVSパルキアVSダークライ   \n",
              "1                en  Attack of the 50 Foot Woman   \n",
              "2                en             Addicted to Love   \n",
              "3                fr                    Incendies   \n",
              "4                en           Inside Deep Throat   \n",
              "\n",
              "                                            overview  popularity  ...  \\\n",
              "0  Ash and friends (this time accompanied by newc...    3.851534  ...   \n",
              "1  When an abused wife grows to giant size becaus...    3.559789  ...   \n",
              "2  Good-natured astronomer Sam is devastated when...    8.085194  ...   \n",
              "3  A mother's last wishes send twins Jeanne and S...    8.596012  ...   \n",
              "4  In 1972, a seemingly typical shoestring budget...    3.217680  ...   \n",
              "\n",
              "                                production_countries release_date runtime  \\\n",
              "0  [{'iso_3166_1': 'JP', 'name': 'Japan'}, {'iso_...      7/14/07    90.0   \n",
              "1  [{'iso_3166_1': 'US', 'name': 'United States o...      5/19/58    65.0   \n",
              "2  [{'iso_3166_1': 'US', 'name': 'United States o...      5/23/97   100.0   \n",
              "3  [{'iso_3166_1': 'CA', 'name': 'Canada'}, {'iso...       9/4/10   130.0   \n",
              "4  [{'iso_3166_1': 'US', 'name': 'United States o...      2/11/05    92.0   \n",
              "\n",
              "                                    spoken_languages    status  \\\n",
              "0  [{'iso_639_1': 'en', 'name': 'English'}, {'iso...  Released   \n",
              "1           [{'iso_639_1': 'en', 'name': 'English'}]  Released   \n",
              "2           [{'iso_639_1': 'en', 'name': 'English'}]  Released   \n",
              "3  [{'iso_639_1': 'fr', 'name': 'Français'}, {'is...  Released   \n",
              "4           [{'iso_639_1': 'en', 'name': 'English'}]  Released   \n",
              "\n",
              "                                             tagline  \\\n",
              "0  Somewhere Between Time & Space... A Legend Is ...   \n",
              "1  A titanic beauty spreads a macabre wave of hor...   \n",
              "2          A Comedy About Lost Loves And Last Laughs   \n",
              "3  The search began at the opening of their mothe...   \n",
              "4  It was filmed in 6 days for 25 thousand dollar...   \n",
              "\n",
              "                          title  \\\n",
              "0  Pokémon: The Rise of Darkrai   \n",
              "1   Attack of the 50 Foot Woman   \n",
              "2              Addicted to Love   \n",
              "3                     Incendies   \n",
              "4            Inside Deep Throat   \n",
              "\n",
              "                                            Keywords  \\\n",
              "0  [{'id': 11451, 'name': 'pok√©mon'}, {'id': 115...   \n",
              "1  [{'id': 9748, 'name': 'revenge'}, {'id': 9951,...   \n",
              "2  [{'id': 931, 'name': 'jealousy'}, {'id': 9673,...   \n",
              "3  [{'id': 378, 'name': 'prison'}, {'id': 539, 'n...   \n",
              "4  [{'id': 279, 'name': 'usa'}, {'id': 1228, 'nam...   \n",
              "\n",
              "                                                cast  \\\n",
              "0  [{'cast_id': 3, 'character': 'Tonio', 'credit_...   \n",
              "1  [{'cast_id': 2, 'character': 'Nancy Fowler Arc...   \n",
              "2  [{'cast_id': 11, 'character': 'Maggie', 'credi...   \n",
              "3  [{'cast_id': 6, 'character': 'Nawal', 'credit_...   \n",
              "4  [{'cast_id': 1, 'character': 'Narrator (voice)...   \n",
              "\n",
              "                                                crew  \n",
              "0  [{'credit_id': '52fe44e7c3a368484e03d683', 'de...  \n",
              "1  [{'credit_id': '55807805c3a3685b1300060b', 'de...  \n",
              "2  [{'credit_id': '52fe4330c3a36847f8041367', 'de...  \n",
              "3  [{'credit_id': '56478092c3a36826140043af', 'de...  \n",
              "4  [{'credit_id': '52fe44ce9251416c75041967', 'de...  \n",
              "\n",
              "[5 rows x 22 columns]"
            ]
          },
          "metadata": {
            "tags": []
          },
          "execution_count": 5
        }
      ]
    },
    {
      "metadata": {
        "id": "71msFeICk2L3",
        "colab_type": "code",
        "outputId": "9cec2f61-ce06-44c9-e894-017c3f4e1259",
        "colab": {
          "base_uri": "https://localhost:8080/",
          "height": 34
        }
      },
      "cell_type": "code",
      "source": [
        "train.shape"
      ],
      "execution_count": 0,
      "outputs": [
        {
          "output_type": "execute_result",
          "data": {
            "text/plain": [
              "(3000, 23)"
            ]
          },
          "metadata": {
            "tags": []
          },
          "execution_count": 6
        }
      ]
    },
    {
      "metadata": {
        "id": "2Kbaz9Lkk2OR",
        "colab_type": "code",
        "outputId": "c1543ddc-c7bc-4232-a6ad-6a31de272d11",
        "colab": {
          "base_uri": "https://localhost:8080/",
          "height": 34
        }
      },
      "cell_type": "code",
      "source": [
        "test.shape"
      ],
      "execution_count": 0,
      "outputs": [
        {
          "output_type": "execute_result",
          "data": {
            "text/plain": [
              "(4398, 22)"
            ]
          },
          "metadata": {
            "tags": []
          },
          "execution_count": 7
        }
      ]
    },
    {
      "metadata": {
        "id": "DPCnTY-UkKrx",
        "colab_type": "code",
        "outputId": "4e505fe0-14cd-4f1b-83db-13f1f09e48be",
        "colab": {
          "base_uri": "https://localhost:8080/",
          "height": 297
        }
      },
      "cell_type": "code",
      "source": [
        "train.describe()"
      ],
      "execution_count": 0,
      "outputs": [
        {
          "output_type": "execute_result",
          "data": {
            "text/html": [
              "<div>\n",
              "<style scoped>\n",
              "    .dataframe tbody tr th:only-of-type {\n",
              "        vertical-align: middle;\n",
              "    }\n",
              "\n",
              "    .dataframe tbody tr th {\n",
              "        vertical-align: top;\n",
              "    }\n",
              "\n",
              "    .dataframe thead th {\n",
              "        text-align: right;\n",
              "    }\n",
              "</style>\n",
              "<table border=\"1\" class=\"dataframe\">\n",
              "  <thead>\n",
              "    <tr style=\"text-align: right;\">\n",
              "      <th></th>\n",
              "      <th>id</th>\n",
              "      <th>budget</th>\n",
              "      <th>popularity</th>\n",
              "      <th>runtime</th>\n",
              "      <th>revenue</th>\n",
              "    </tr>\n",
              "  </thead>\n",
              "  <tbody>\n",
              "    <tr>\n",
              "      <th>count</th>\n",
              "      <td>3000.000000</td>\n",
              "      <td>3.000000e+03</td>\n",
              "      <td>3000.000000</td>\n",
              "      <td>2998.000000</td>\n",
              "      <td>3.000000e+03</td>\n",
              "    </tr>\n",
              "    <tr>\n",
              "      <th>mean</th>\n",
              "      <td>1500.500000</td>\n",
              "      <td>2.253133e+07</td>\n",
              "      <td>8.463274</td>\n",
              "      <td>107.856571</td>\n",
              "      <td>6.672585e+07</td>\n",
              "    </tr>\n",
              "    <tr>\n",
              "      <th>std</th>\n",
              "      <td>866.169729</td>\n",
              "      <td>3.702609e+07</td>\n",
              "      <td>12.104000</td>\n",
              "      <td>22.086434</td>\n",
              "      <td>1.375323e+08</td>\n",
              "    </tr>\n",
              "    <tr>\n",
              "      <th>min</th>\n",
              "      <td>1.000000</td>\n",
              "      <td>0.000000e+00</td>\n",
              "      <td>0.000001</td>\n",
              "      <td>0.000000</td>\n",
              "      <td>1.000000e+00</td>\n",
              "    </tr>\n",
              "    <tr>\n",
              "      <th>25%</th>\n",
              "      <td>750.750000</td>\n",
              "      <td>0.000000e+00</td>\n",
              "      <td>4.018053</td>\n",
              "      <td>94.000000</td>\n",
              "      <td>2.379808e+06</td>\n",
              "    </tr>\n",
              "    <tr>\n",
              "      <th>50%</th>\n",
              "      <td>1500.500000</td>\n",
              "      <td>8.000000e+06</td>\n",
              "      <td>7.374861</td>\n",
              "      <td>104.000000</td>\n",
              "      <td>1.680707e+07</td>\n",
              "    </tr>\n",
              "    <tr>\n",
              "      <th>75%</th>\n",
              "      <td>2250.250000</td>\n",
              "      <td>2.900000e+07</td>\n",
              "      <td>10.890983</td>\n",
              "      <td>118.000000</td>\n",
              "      <td>6.891920e+07</td>\n",
              "    </tr>\n",
              "    <tr>\n",
              "      <th>max</th>\n",
              "      <td>3000.000000</td>\n",
              "      <td>3.800000e+08</td>\n",
              "      <td>294.337037</td>\n",
              "      <td>338.000000</td>\n",
              "      <td>1.519558e+09</td>\n",
              "    </tr>\n",
              "  </tbody>\n",
              "</table>\n",
              "</div>"
            ],
            "text/plain": [
              "                id        budget   popularity      runtime       revenue\n",
              "count  3000.000000  3.000000e+03  3000.000000  2998.000000  3.000000e+03\n",
              "mean   1500.500000  2.253133e+07     8.463274   107.856571  6.672585e+07\n",
              "std     866.169729  3.702609e+07    12.104000    22.086434  1.375323e+08\n",
              "min       1.000000  0.000000e+00     0.000001     0.000000  1.000000e+00\n",
              "25%     750.750000  0.000000e+00     4.018053    94.000000  2.379808e+06\n",
              "50%    1500.500000  8.000000e+06     7.374861   104.000000  1.680707e+07\n",
              "75%    2250.250000  2.900000e+07    10.890983   118.000000  6.891920e+07\n",
              "max    3000.000000  3.800000e+08   294.337037   338.000000  1.519558e+09"
            ]
          },
          "metadata": {
            "tags": []
          },
          "execution_count": 8
        }
      ]
    },
    {
      "metadata": {
        "id": "eJj97LlwkNet",
        "colab_type": "code",
        "outputId": "cf68d7fc-128f-49aa-e6cc-f4e8d9d3d4a4",
        "colab": {
          "base_uri": "https://localhost:8080/",
          "height": 297
        }
      },
      "cell_type": "code",
      "source": [
        "test.describe()"
      ],
      "execution_count": 0,
      "outputs": [
        {
          "output_type": "execute_result",
          "data": {
            "text/html": [
              "<div>\n",
              "<style scoped>\n",
              "    .dataframe tbody tr th:only-of-type {\n",
              "        vertical-align: middle;\n",
              "    }\n",
              "\n",
              "    .dataframe tbody tr th {\n",
              "        vertical-align: top;\n",
              "    }\n",
              "\n",
              "    .dataframe thead th {\n",
              "        text-align: right;\n",
              "    }\n",
              "</style>\n",
              "<table border=\"1\" class=\"dataframe\">\n",
              "  <thead>\n",
              "    <tr style=\"text-align: right;\">\n",
              "      <th></th>\n",
              "      <th>id</th>\n",
              "      <th>budget</th>\n",
              "      <th>popularity</th>\n",
              "      <th>runtime</th>\n",
              "    </tr>\n",
              "  </thead>\n",
              "  <tbody>\n",
              "    <tr>\n",
              "      <th>count</th>\n",
              "      <td>4398.000000</td>\n",
              "      <td>4.398000e+03</td>\n",
              "      <td>4398.000000</td>\n",
              "      <td>4394.000000</td>\n",
              "    </tr>\n",
              "    <tr>\n",
              "      <th>mean</th>\n",
              "      <td>5199.500000</td>\n",
              "      <td>2.264929e+07</td>\n",
              "      <td>8.550230</td>\n",
              "      <td>107.622212</td>\n",
              "    </tr>\n",
              "    <tr>\n",
              "      <th>std</th>\n",
              "      <td>1269.737571</td>\n",
              "      <td>3.689991e+07</td>\n",
              "      <td>12.209014</td>\n",
              "      <td>21.058290</td>\n",
              "    </tr>\n",
              "    <tr>\n",
              "      <th>min</th>\n",
              "      <td>3001.000000</td>\n",
              "      <td>0.000000e+00</td>\n",
              "      <td>0.000001</td>\n",
              "      <td>0.000000</td>\n",
              "    </tr>\n",
              "    <tr>\n",
              "      <th>25%</th>\n",
              "      <td>4100.250000</td>\n",
              "      <td>0.000000e+00</td>\n",
              "      <td>3.895186</td>\n",
              "      <td>94.000000</td>\n",
              "    </tr>\n",
              "    <tr>\n",
              "      <th>50%</th>\n",
              "      <td>5199.500000</td>\n",
              "      <td>7.450000e+06</td>\n",
              "      <td>7.482241</td>\n",
              "      <td>104.000000</td>\n",
              "    </tr>\n",
              "    <tr>\n",
              "      <th>75%</th>\n",
              "      <td>6298.750000</td>\n",
              "      <td>2.800000e+07</td>\n",
              "      <td>10.938524</td>\n",
              "      <td>118.000000</td>\n",
              "    </tr>\n",
              "    <tr>\n",
              "      <th>max</th>\n",
              "      <td>7398.000000</td>\n",
              "      <td>2.600000e+08</td>\n",
              "      <td>547.488298</td>\n",
              "      <td>320.000000</td>\n",
              "    </tr>\n",
              "  </tbody>\n",
              "</table>\n",
              "</div>"
            ],
            "text/plain": [
              "                id        budget   popularity      runtime\n",
              "count  4398.000000  4.398000e+03  4398.000000  4394.000000\n",
              "mean   5199.500000  2.264929e+07     8.550230   107.622212\n",
              "std    1269.737571  3.689991e+07    12.209014    21.058290\n",
              "min    3001.000000  0.000000e+00     0.000001     0.000000\n",
              "25%    4100.250000  0.000000e+00     3.895186    94.000000\n",
              "50%    5199.500000  7.450000e+06     7.482241   104.000000\n",
              "75%    6298.750000  2.800000e+07    10.938524   118.000000\n",
              "max    7398.000000  2.600000e+08   547.488298   320.000000"
            ]
          },
          "metadata": {
            "tags": []
          },
          "execution_count": 9
        }
      ]
    },
    {
      "metadata": {
        "id": "EHX7Vjx1kRFf",
        "colab_type": "code",
        "outputId": "1bf58832-398e-4d4e-e38f-c38f600e52fa",
        "colab": {
          "base_uri": "https://localhost:8080/",
          "height": 425
        }
      },
      "cell_type": "code",
      "source": [
        "# identify areas of high null values\n",
        "train.isna().sum()"
      ],
      "execution_count": 0,
      "outputs": [
        {
          "output_type": "execute_result",
          "data": {
            "text/plain": [
              "id                          0\n",
              "belongs_to_collection    2396\n",
              "budget                      0\n",
              "genres                      7\n",
              "homepage                 2054\n",
              "imdb_id                     0\n",
              "original_language           0\n",
              "original_title              0\n",
              "overview                    8\n",
              "popularity                  0\n",
              "poster_path                 1\n",
              "production_companies      156\n",
              "production_countries       55\n",
              "release_date                0\n",
              "runtime                     2\n",
              "spoken_languages           20\n",
              "status                      0\n",
              "tagline                   597\n",
              "title                       0\n",
              "Keywords                  276\n",
              "cast                       13\n",
              "crew                       16\n",
              "revenue                     0\n",
              "dtype: int64"
            ]
          },
          "metadata": {
            "tags": []
          },
          "execution_count": 10
        }
      ]
    },
    {
      "metadata": {
        "id": "RBnyp6ZSlsRr",
        "colab_type": "code",
        "outputId": "da4feeb8-ad3d-49b6-ac26-f071497d7990",
        "colab": {
          "base_uri": "https://localhost:8080/",
          "height": 408
        }
      },
      "cell_type": "code",
      "source": [
        "test.isna().sum()"
      ],
      "execution_count": 0,
      "outputs": [
        {
          "output_type": "execute_result",
          "data": {
            "text/plain": [
              "id                          0\n",
              "belongs_to_collection    3521\n",
              "budget                      0\n",
              "genres                     16\n",
              "homepage                 2978\n",
              "imdb_id                     0\n",
              "original_language           0\n",
              "original_title              0\n",
              "overview                   14\n",
              "popularity                  0\n",
              "poster_path                 1\n",
              "production_companies      258\n",
              "production_countries      102\n",
              "release_date                1\n",
              "runtime                     4\n",
              "spoken_languages           42\n",
              "status                      2\n",
              "tagline                   863\n",
              "title                       3\n",
              "Keywords                  393\n",
              "cast                       13\n",
              "crew                       22\n",
              "dtype: int64"
            ]
          },
          "metadata": {
            "tags": []
          },
          "execution_count": 11
        }
      ]
    },
    {
      "metadata": {
        "id": "hMM5eHExG1SP",
        "colab_type": "text"
      },
      "cell_type": "markdown",
      "source": [
        "# Data Cleaning"
      ]
    },
    {
      "metadata": {
        "id": "2CgFuoFJNGRl",
        "colab_type": "code",
        "colab": {}
      },
      "cell_type": "code",
      "source": [
        "# Break MM/DD/YY column into individual day, month and year columns\n",
        "train['release_month']=pd.to_datetime(train['release_date']).dt.month\n",
        "train['release_day']=pd.to_datetime(train['release_date']).dt.day\n",
        "train['release_year']=pd.to_datetime(train['release_date']).dt.year\n",
        "\n",
        "test['release_month']=pd.to_datetime(test['release_date']).dt.month\n",
        "test['release_day']=pd.to_datetime(test['release_date']).dt.day\n",
        "test['release_year']=pd.to_datetime(test['release_date']).dt.year\n"
      ],
      "execution_count": 0,
      "outputs": []
    },
    {
      "metadata": {
        "id": "yKZlrCE7OW4j",
        "colab_type": "code",
        "colab": {}
      },
      "cell_type": "code",
      "source": [
        "# Assitance from this kernelhttps://www.kaggle.com/somang1418/eda-lgb-xgb-modelings-with-a-cute-panda-meme \n",
        "# Fixes years changed to 4 year form that are above 2019\n",
        "train['release_year']=np.where(train['release_year'] > 2019, train['release_year']-100, train['release_year'])\n",
        "test['release_year']=np.where(test['release_year'] > 2019, test['release_year']-100, test['release_year'])"
      ],
      "execution_count": 0,
      "outputs": []
    },
    {
      "metadata": {
        "id": "z_E_-oX5JHR4",
        "colab_type": "code",
        "colab": {}
      },
      "cell_type": "code",
      "source": [
        "# Create day of the week column\n",
        "train['release_dow']=pd.to_datetime(train['release_date']).dt.dayofweek\n",
        "test['release_dow']=pd.to_datetime(test['release_date']).dt.dayofweek\n",
        "\n"
      ],
      "execution_count": 0,
      "outputs": []
    },
    {
      "metadata": {
        "id": "mUgK2wIdM3rD",
        "colab_type": "code",
        "colab": {}
      },
      "cell_type": "code",
      "source": [
        "# Observe amount of releases per year \n",
        "year=pd.DataFrame(train['release_year'])"
      ],
      "execution_count": 0,
      "outputs": []
    },
    {
      "metadata": {
        "id": "qpaVDhLvQOyP",
        "colab_type": "code",
        "outputId": "72e2ecab-a65b-491d-c40b-6f8856c4cf11",
        "colab": {
          "base_uri": "https://localhost:8080/",
          "height": 301
        }
      },
      "cell_type": "code",
      "source": [
        "sns.countplot(x=\"release_year\", data=year)"
      ],
      "execution_count": 0,
      "outputs": [
        {
          "output_type": "execute_result",
          "data": {
            "text/plain": [
              "<matplotlib.axes._subplots.AxesSubplot at 0x7f707e03ad30>"
            ]
          },
          "metadata": {
            "tags": []
          },
          "execution_count": 16
        },
        {
          "output_type": "display_data",
          "data": {
            "image/png": "[encoded data removed]",
            "text/plain": [
              "<Figure size 432x288 with 1 Axes>"
            ]
          },
          "metadata": {
            "tags": []
          }
        }
      ]
    },
    {
      "metadata": {
        "id": "Rjl1P8EHZLR-",
        "colab_type": "code",
        "outputId": "2ecf224e-fc72-4f3c-beeb-30a6e45502e4",
        "colab": {
          "base_uri": "https://localhost:8080/",
          "height": 204
        }
      },
      "cell_type": "code",
      "source": [
        "#Create final data frame with only numeric based columns for naive model\n",
        "train_new=train[['id', 'budget', 'popularity',  'release_month', 'release_day', 'release_year', 'release_dow', 'revenue' ]]\n",
        "train_new.head()"
      ],
      "execution_count": 0,
      "outputs": [
        {
          "output_type": "execute_result",
          "data": {
            "text/html": [
              "<div>\n",
              "<style scoped>\n",
              "    .dataframe tbody tr th:only-of-type {\n",
              "        vertical-align: middle;\n",
              "    }\n",
              "\n",
              "    .dataframe tbody tr th {\n",
              "        vertical-align: top;\n",
              "    }\n",
              "\n",
              "    .dataframe thead th {\n",
              "        text-align: right;\n",
              "    }\n",
              "</style>\n",
              "<table border=\"1\" class=\"dataframe\">\n",
              "  <thead>\n",
              "    <tr style=\"text-align: right;\">\n",
              "      <th></th>\n",
              "      <th>id</th>\n",
              "      <th>budget</th>\n",
              "      <th>popularity</th>\n",
              "      <th>release_month</th>\n",
              "      <th>release_day</th>\n",
              "      <th>release_year</th>\n",
              "      <th>release_dow</th>\n",
              "      <th>revenue</th>\n",
              "    </tr>\n",
              "  </thead>\n",
              "  <tbody>\n",
              "    <tr>\n",
              "      <th>0</th>\n",
              "      <td>1</td>\n",
              "      <td>14000000</td>\n",
              "      <td>6.575393</td>\n",
              "      <td>2</td>\n",
              "      <td>20</td>\n",
              "      <td>2015</td>\n",
              "      <td>4</td>\n",
              "      <td>12314651</td>\n",
              "    </tr>\n",
              "    <tr>\n",
              "      <th>1</th>\n",
              "      <td>2</td>\n",
              "      <td>40000000</td>\n",
              "      <td>8.248895</td>\n",
              "      <td>8</td>\n",
              "      <td>6</td>\n",
              "      <td>2004</td>\n",
              "      <td>4</td>\n",
              "      <td>95149435</td>\n",
              "    </tr>\n",
              "    <tr>\n",
              "      <th>2</th>\n",
              "      <td>3</td>\n",
              "      <td>3300000</td>\n",
              "      <td>64.299990</td>\n",
              "      <td>10</td>\n",
              "      <td>10</td>\n",
              "      <td>2014</td>\n",
              "      <td>4</td>\n",
              "      <td>13092000</td>\n",
              "    </tr>\n",
              "    <tr>\n",
              "      <th>3</th>\n",
              "      <td>4</td>\n",
              "      <td>1200000</td>\n",
              "      <td>3.174936</td>\n",
              "      <td>3</td>\n",
              "      <td>9</td>\n",
              "      <td>2012</td>\n",
              "      <td>4</td>\n",
              "      <td>16000000</td>\n",
              "    </tr>\n",
              "    <tr>\n",
              "      <th>4</th>\n",
              "      <td>5</td>\n",
              "      <td>0</td>\n",
              "      <td>1.148070</td>\n",
              "      <td>2</td>\n",
              "      <td>5</td>\n",
              "      <td>2009</td>\n",
              "      <td>3</td>\n",
              "      <td>3923970</td>\n",
              "    </tr>\n",
              "  </tbody>\n",
              "</table>\n",
              "</div>"
            ],
            "text/plain": [
              "   id    budget  popularity  release_month  release_day  release_year  \\\n",
              "0   1  14000000    6.575393              2           20          2015   \n",
              "1   2  40000000    8.248895              8            6          2004   \n",
              "2   3   3300000   64.299990             10           10          2014   \n",
              "3   4   1200000    3.174936              3            9          2012   \n",
              "4   5         0    1.148070              2            5          2009   \n",
              "\n",
              "   release_dow   revenue  \n",
              "0            4  12314651  \n",
              "1            4  95149435  \n",
              "2            4  13092000  \n",
              "3            4  16000000  \n",
              "4            3   3923970  "
            ]
          },
          "metadata": {
            "tags": []
          },
          "execution_count": 17
        }
      ]
    },
    {
      "metadata": {
        "id": "QVxRQOxsb8uw",
        "colab_type": "code",
        "colab": {}
      },
      "cell_type": "code",
      "source": [
        "test_new=test[['id', 'budget', 'popularity', 'release_month', 'release_day', 'release_year', 'release_dow']]"
      ],
      "execution_count": 0,
      "outputs": []
    },
    {
      "metadata": {
        "id": "aG_cMmKirY30",
        "colab_type": "text"
      },
      "cell_type": "markdown",
      "source": [
        "# Linear Regression"
      ]
    },
    {
      "metadata": {
        "id": "-eBQ9GJjblvb",
        "colab_type": "code",
        "colab": {}
      },
      "cell_type": "code",
      "source": [
        "#Create train test split \n",
        "y=train_new.revenue.apply(np.log1p)\n",
        "\n",
        "X=train_new[['id', 'budget', 'popularity',  'release_month', 'release_day', 'release_year', 'release_dow']]\n",
        "\n",
        "from sklearn.model_selection import train_test_split\n",
        "\n",
        "X_train, X_test, y_train, y_test = train_test_split(X, y,\n",
        "                                                    test_size=0.3,\n",
        "                                                    random_state=100)"
      ],
      "execution_count": 0,
      "outputs": []
    },
    {
      "metadata": {
        "id": "Zls46VwXewiB",
        "colab_type": "code",
        "outputId": "d46b7d5c-30c3-489b-f281-9706d97d82b7",
        "colab": {
          "base_uri": "https://localhost:8080/",
          "height": 34
        }
      },
      "cell_type": "code",
      "source": [
        "print(X_train.shape, X_test.shape, y_train.shape, y_test.shape)"
      ],
      "execution_count": 0,
      "outputs": [
        {
          "output_type": "stream",
          "text": [
            "(2100, 7) (900, 7) (2100,) (900,)\n"
          ],
          "name": "stdout"
        }
      ]
    },
    {
      "metadata": {
        "id": "rQE_X5K2ixoM",
        "colab_type": "code",
        "outputId": "14b29b66-88db-42f9-99fa-1623f4187a0c",
        "colab": {
          "base_uri": "https://localhost:8080/",
          "height": 204
        }
      },
      "cell_type": "code",
      "source": [
        "X_train.head()"
      ],
      "execution_count": 0,
      "outputs": [
        {
          "output_type": "execute_result",
          "data": {
            "text/html": [
              "<div>\n",
              "<style scoped>\n",
              "    .dataframe tbody tr th:only-of-type {\n",
              "        vertical-align: middle;\n",
              "    }\n",
              "\n",
              "    .dataframe tbody tr th {\n",
              "        vertical-align: top;\n",
              "    }\n",
              "\n",
              "    .dataframe thead th {\n",
              "        text-align: right;\n",
              "    }\n",
              "</style>\n",
              "<table border=\"1\" class=\"dataframe\">\n",
              "  <thead>\n",
              "    <tr style=\"text-align: right;\">\n",
              "      <th></th>\n",
              "      <th>id</th>\n",
              "      <th>budget</th>\n",
              "      <th>popularity</th>\n",
              "      <th>release_month</th>\n",
              "      <th>release_day</th>\n",
              "      <th>release_year</th>\n",
              "      <th>release_dow</th>\n",
              "    </tr>\n",
              "  </thead>\n",
              "  <tbody>\n",
              "    <tr>\n",
              "      <th>1658</th>\n",
              "      <td>1659</td>\n",
              "      <td>0</td>\n",
              "      <td>1.773963</td>\n",
              "      <td>6</td>\n",
              "      <td>25</td>\n",
              "      <td>2007</td>\n",
              "      <td>0</td>\n",
              "    </tr>\n",
              "    <tr>\n",
              "      <th>1525</th>\n",
              "      <td>1526</td>\n",
              "      <td>777000</td>\n",
              "      <td>8.152085</td>\n",
              "      <td>3</td>\n",
              "      <td>11</td>\n",
              "      <td>1971</td>\n",
              "      <td>3</td>\n",
              "    </tr>\n",
              "    <tr>\n",
              "      <th>1056</th>\n",
              "      <td>1057</td>\n",
              "      <td>2500000</td>\n",
              "      <td>3.750365</td>\n",
              "      <td>12</td>\n",
              "      <td>10</td>\n",
              "      <td>2008</td>\n",
              "      <td>2</td>\n",
              "    </tr>\n",
              "    <tr>\n",
              "      <th>150</th>\n",
              "      <td>151</td>\n",
              "      <td>0</td>\n",
              "      <td>1.178642</td>\n",
              "      <td>12</td>\n",
              "      <td>12</td>\n",
              "      <td>1980</td>\n",
              "      <td>4</td>\n",
              "    </tr>\n",
              "    <tr>\n",
              "      <th>91</th>\n",
              "      <td>92</td>\n",
              "      <td>0</td>\n",
              "      <td>3.831960</td>\n",
              "      <td>3</td>\n",
              "      <td>16</td>\n",
              "      <td>2001</td>\n",
              "      <td>4</td>\n",
              "    </tr>\n",
              "  </tbody>\n",
              "</table>\n",
              "</div>"
            ],
            "text/plain": [
              "        id   budget  popularity  release_month  release_day  release_year  \\\n",
              "1658  1659        0    1.773963              6           25          2007   \n",
              "1525  1526   777000    8.152085              3           11          1971   \n",
              "1056  1057  2500000    3.750365             12           10          2008   \n",
              "150    151        0    1.178642             12           12          1980   \n",
              "91      92        0    3.831960              3           16          2001   \n",
              "\n",
              "      release_dow  \n",
              "1658            0  \n",
              "1525            3  \n",
              "1056            2  \n",
              "150             4  \n",
              "91              4  "
            ]
          },
          "metadata": {
            "tags": []
          },
          "execution_count": 39
        }
      ]
    },
    {
      "metadata": {
        "id": "8oCyPU3Scfpq",
        "colab_type": "code",
        "colab": {}
      },
      "cell_type": "code",
      "source": [
        "from sklearn.linear_model import LinearRegression\n",
        "from sklearn.metrics import mean_squared_error\n",
        "lm=LinearRegression()"
      ],
      "execution_count": 0,
      "outputs": []
    },
    {
      "metadata": {
        "id": "mMlBHwghcpZa",
        "colab_type": "code",
        "outputId": "0aa7b9b1-cd9f-4d8e-feea-1106b50e50b8",
        "colab": {
          "base_uri": "https://localhost:8080/",
          "height": 51
        }
      },
      "cell_type": "code",
      "source": [
        "lm.fit(X_train, y_train)"
      ],
      "execution_count": 0,
      "outputs": [
        {
          "output_type": "execute_result",
          "data": {
            "text/plain": [
              "LinearRegression(copy_X=True, fit_intercept=True, n_jobs=None,\n",
              "         normalize=False)"
            ]
          },
          "metadata": {
            "tags": []
          },
          "execution_count": 41
        }
      ]
    },
    {
      "metadata": {
        "id": "FV8Tvvwqe6af",
        "colab_type": "code",
        "colab": {}
      },
      "cell_type": "code",
      "source": [
        "prediction=lm.predict(X_test)"
      ],
      "execution_count": 0,
      "outputs": []
    },
    {
      "metadata": {
        "id": "OWw8x564dlEP",
        "colab_type": "code",
        "outputId": "24a21155-719c-4dd5-ddbb-342f10328831",
        "colab": {
          "base_uri": "https://localhost:8080/",
          "height": 51
        }
      },
      "cell_type": "code",
      "source": [
        "print('R2 for Train', lm.score(X_train, y_train))\n",
        "print('R2 for test', lm.score(X_test, y_test))"
      ],
      "execution_count": 0,
      "outputs": [
        {
          "output_type": "stream",
          "text": [
            "R2 for Train 0.26427020718157157\n",
            "R2 for test 0.25361362074799154\n"
          ],
          "name": "stdout"
        }
      ]
    },
    {
      "metadata": {
        "id": "SnylTo9OjPLR",
        "colab_type": "text"
      },
      "cell_type": "markdown",
      "source": [
        "# Lasso Regression"
      ]
    },
    {
      "metadata": {
        "id": "7KBAaVJNlgLS",
        "colab_type": "code",
        "colab": {}
      },
      "cell_type": "code",
      "source": [
        "from sklearn.linear_model import LassoCV, LassoLarsCV\n",
        "from sklearn.model_selection import cross_val_score"
      ],
      "execution_count": 0,
      "outputs": []
    },
    {
      "metadata": {
        "id": "LfWaLYZiDOmy",
        "colab_type": "code",
        "outputId": "d51513fc-c5c6-4ba7-edb1-d2a9d589fbe9",
        "colab": {
          "base_uri": "https://localhost:8080/",
          "height": 34
        }
      },
      "cell_type": "code",
      "source": [
        "X.shape"
      ],
      "execution_count": 0,
      "outputs": [
        {
          "output_type": "execute_result",
          "data": {
            "text/plain": [
              "(3000, 7)"
            ]
          },
          "metadata": {
            "tags": []
          },
          "execution_count": 45
        }
      ]
    },
    {
      "metadata": {
        "id": "u9MACz4ZstsI",
        "colab_type": "code",
        "outputId": "a32e9138-bd22-4174-cf6d-35b19d2bd065",
        "colab": {
          "base_uri": "https://localhost:8080/",
          "height": 71
        }
      },
      "cell_type": "code",
      "source": [
        "L=LassoCV(alphas = [10,  1, 0.1, 0.01, 0.001]).fit(X_train, y_train)"
      ],
      "execution_count": 0,
      "outputs": [
        {
          "output_type": "stream",
          "text": [
            "/usr/local/lib/python3.6/dist-packages/sklearn/model_selection/_split.py:2053: FutureWarning: You should specify a value for 'cv' instead of relying on the default value. The default value will change from 3 to 5 in version 0.22.\n",
            "  warnings.warn(CV_WARNING, FutureWarning)\n"
          ],
          "name": "stderr"
        }
      ]
    },
    {
      "metadata": {
        "id": "Ph8z6Stjyx8s",
        "colab_type": "code",
        "colab": {}
      },
      "cell_type": "code",
      "source": [
        "LP=L.predict(X_test)"
      ],
      "execution_count": 0,
      "outputs": []
    },
    {
      "metadata": {
        "id": "6PKcXZ-8JwMw",
        "colab_type": "code",
        "outputId": "105c2e6b-49be-427b-b7f1-81803e2f6ece",
        "colab": {
          "base_uri": "https://localhost:8080/",
          "height": 51
        }
      },
      "cell_type": "code",
      "source": [
        "print(\"R2 Score:\", L.score(X_train, y_train))\n",
        "print(\"R2 Score:\", L.score(X_test, y_test))"
      ],
      "execution_count": 0,
      "outputs": [
        {
          "output_type": "stream",
          "text": [
            "R2 Score: 0.2611260803810561\n",
            "R2 Score: 0.2486626563809895\n"
          ],
          "name": "stdout"
        }
      ]
    },
    {
      "metadata": {
        "id": "JKHwjdpi0Woa",
        "colab_type": "text"
      },
      "cell_type": "markdown",
      "source": [
        "# Ridge Regressions"
      ]
    },
    {
      "metadata": {
        "id": "Dg0kc3JKFNq0",
        "colab_type": "code",
        "colab": {}
      },
      "cell_type": "code",
      "source": [
        "from sklearn.linear_model import Ridge, RidgeCV"
      ],
      "execution_count": 0,
      "outputs": []
    },
    {
      "metadata": {
        "id": "iKLwlDh2ybXm",
        "colab_type": "code",
        "colab": {}
      },
      "cell_type": "code",
      "source": [
        "R=RidgeCV(alphas=[100, 75, 50, 25, 10 , 1 ,0.1]).fit(X_train, y_train)"
      ],
      "execution_count": 0,
      "outputs": []
    },
    {
      "metadata": {
        "id": "6-ZW_jYeLkHN",
        "colab_type": "code",
        "outputId": "8cc02e6a-19b7-439b-c2c7-25da0da06b7c",
        "colab": {
          "base_uri": "https://localhost:8080/",
          "height": 3842
        }
      },
      "cell_type": "code",
      "source": [
        "RP=R.predict(X_test)\n",
        "RP"
      ],
      "execution_count": 0,
      "outputs": [
        {
          "output_type": "execute_result",
          "data": {
            "text/plain": [
              "array([  9.59427769,   0.62577312,  82.76041129,   8.71358263,\n",
              "         1.35472688,   8.09548505,   1.84606065,   5.50034822,\n",
              "         1.3659182 ,   0.65983952,   8.98328819, 108.4848884 ,\n",
              "        57.68800614,   4.54745644,  15.34267351,  29.77120384,\n",
              "        22.79934523,   1.42029265,  11.20592407,  10.69695637,\n",
              "         3.70121013,   1.056399  , 102.38364024,   0.74636784,\n",
              "         2.35249618,   1.07001131,  58.18778574,   1.19519562,\n",
              "         0.85112004,  21.08792148,   2.77465649,   6.06507096,\n",
              "        12.53658703,  17.60036984,   2.19403749,   0.92499106,\n",
              "         1.11740266,   4.13238517,   7.48601181,   3.8397391 ,\n",
              "        27.43315534,  16.21885971,   0.9597204 ,   1.89885347,\n",
              "         0.99025658,   1.65725974,   8.50477975,   1.39816112,\n",
              "         1.76295952,   4.34431919,   6.89672415,   4.25781237,\n",
              "         4.16876803,  19.05078709,  64.61966807,   2.4042424 ,\n",
              "         3.15800867,   1.44871265,  17.7541836 ,   1.04479973,\n",
              "         4.22037965,   1.36978789,   8.6917663 ,  39.08013525,\n",
              "         0.8529022 ,   7.12901043,   0.70694331,   1.17687346,\n",
              "        26.03048301,   1.60184874,  10.21115801,   0.44507302,\n",
              "        17.22296043,   1.12157224,  95.36069274,  20.03613263,\n",
              "         2.56793405,  31.52784952,  13.19667501,   8.53988771,\n",
              "         8.10297584,  29.4792896 ,  17.25358585,  10.29424711,\n",
              "         2.33986749,   9.44923589,   1.49403083,   0.98023861,\n",
              "         4.30107868,   1.05246266,   7.25310052,   3.17757127,\n",
              "         3.47961934,   1.20147315,   2.75632202,  55.51203997,\n",
              "         1.37691342,   1.38755944,   0.68818071,  32.5622335 ,\n",
              "         3.59839631,   3.63404231,   0.7725621 ,   0.6320315 ,\n",
              "         1.28269353,   1.07521975,  16.63287715,   3.05723914,\n",
              "        45.19576851,  17.83247819,  10.64041674,   2.53691553,\n",
              "         5.85418878,   7.18732231,  14.57510065,   1.34238219,\n",
              "        48.67695943,  27.16832288,  41.83825621,  20.37143314,\n",
              "        39.13193156, 123.99310963,  10.90352822,  17.15807122,\n",
              "         0.87746019,  32.56142834,   1.41419233,   1.27127155,\n",
              "        73.46374863,   0.61520909,  20.07113305,  22.84038719,\n",
              "         0.43477331,  45.27601251,  38.57434762,  26.61823132,\n",
              "        12.04494499,   2.93145122,  29.3869932 ,   1.59002057,\n",
              "         1.27747909,  16.64818686,  48.92202206,   3.84561761,\n",
              "         6.58145577,  26.01922364,   1.00459027,   2.24422253,\n",
              "         3.39388504,  30.10955563,   3.10170462,  10.78399245,\n",
              "         0.56188251,  15.36066648,  46.68565739,   1.03799212,\n",
              "        47.15736376,   7.78188461,  48.41934417,  20.78188582,\n",
              "         1.44163609,  12.72729721,   1.22516981,   6.80123367,\n",
              "        20.02572256,   1.63767061,  42.33612228,   7.37377808,\n",
              "         0.95162409,   9.19921957,   1.72452151,   1.02601982,\n",
              "        15.25994151,   1.51116528,   0.60586653,   0.45816982,\n",
              "         1.55160945,   9.86473454,   2.89528287,   0.73605311,\n",
              "         1.44576836,  51.57546027,   1.28931968,   7.38979312,\n",
              "         5.70678489,  26.36479485,  21.95751647,   3.18269052,\n",
              "         0.99892642,  23.12450594,   5.81395144,   1.01795888,\n",
              "         2.24053058,   1.33586238,   2.4019868 ,   0.65661722,\n",
              "         0.84130333,  36.36874302,  32.38094374,  13.76521795,\n",
              "        41.26032117,  18.56685486,   1.67459763,   4.38628074,\n",
              "         0.89751921,   3.89799743,   4.3678292 ,   2.84253245,\n",
              "        18.64584751,  15.42621706,   6.13931706,   2.07476501,\n",
              "         8.52759594,   4.74612254,   5.70272102,  39.10725058,\n",
              "        39.36153479,   8.81889381,   0.96939328,  10.20491368,\n",
              "         0.76037512,  16.55277073,   1.71227153,  13.30687774,\n",
              "         6.16565317,   1.10247619,   2.34964996,  11.00260799,\n",
              "        27.43181718,   2.46289477,   8.69267059,  10.31865115,\n",
              "         5.71965912,   0.96371218,  41.90763971,  21.66430699,\n",
              "        63.59971016,   5.15794579,   3.25127152,  83.3253782 ,\n",
              "         3.204636  ,   1.50420277,  10.72394524,   1.68767609,\n",
              "         1.33276633,   3.342529  ,   4.14252448,  25.64656299,\n",
              "        32.85101944, 101.01153365,   1.08525497,   1.01080292,\n",
              "         1.09950811,  13.6417847 ,  10.88084553,  26.23190985,\n",
              "        13.31295779,   4.04718435,   6.07735687,   6.98454814,\n",
              "        17.46508557,   0.91107323,   0.77915924,   4.63833454,\n",
              "         0.56325453,  40.93535424,  86.77843382,  16.4497283 ,\n",
              "         8.4489081 ,   4.62572706,  42.76773799,  56.79292822,\n",
              "         7.49272756,   1.29375798,   1.17361289,   1.63881282,\n",
              "         5.9139596 ,   1.46919552,   1.3564066 ,  26.08531156,\n",
              "        32.68039039,   1.46345095,   2.13930841,   8.86494084,\n",
              "        63.8347127 ,   1.44328821,   3.1988907 ,  10.50463272,\n",
              "        16.69259703,   0.91171568,  17.945402  ,   1.12104072,\n",
              "         1.07515694,  13.41376035,   1.60041942,   1.11269077,\n",
              "        17.09063586,   1.06161254,   4.4868155 ,  54.69659361,\n",
              "        32.75514064,   5.2773239 ,  33.36977379,  23.78354426,\n",
              "         4.96355302,   3.18085512,   1.21599755, 131.78315835,\n",
              "        14.47418825,  18.66802118,   9.83719535,  38.62779361,\n",
              "        17.25666988,  12.59943731,   2.86897268,  17.18555241,\n",
              "        95.91810201, 126.94074362,  13.62779878,   0.97159962,\n",
              "         2.1606941 ,  44.9065614 ,  26.42181913,   2.21405699,\n",
              "         3.6072646 ,  12.28180196,   5.98774388,  10.69133731,\n",
              "         9.44332286,   1.12247578,   1.11393275,   2.18692555,\n",
              "         5.39758912,   7.11419375,   1.26058563,   5.55061575,\n",
              "         1.65659108,   8.07480494,   6.35223699,   6.22282187,\n",
              "         1.12550867,  15.22839739,  27.01074206,   3.76492135,\n",
              "         1.36064442,   0.98079979,   0.72966695,  21.61031764,\n",
              "         1.29124658,   3.78004324,  17.08443563,   5.87893376,\n",
              "         4.58440517,   1.07058126,  45.21507741, 133.13876907,\n",
              "        16.98403299,  32.77501735,   1.58975396,   1.11006612,\n",
              "         0.55487952,  26.08799915,  54.56367593,  13.21453481,\n",
              "         3.18995233,  13.53222704,   0.98997466,   4.39245548,\n",
              "        12.23584801,   1.08190376,   3.62285606,  11.52562916,\n",
              "         2.86614816,   5.29171617,   8.17588537,   2.78976918,\n",
              "        18.74784519,  10.62344068,   3.11342224,   1.5988221 ,\n",
              "         1.03578032,  16.78915341,  13.11440587,   1.18069477,\n",
              "         5.56194226,   0.96798716,  38.75520507,   1.61653645,\n",
              "        42.32320379,   5.54818088,  16.78184664,   2.64021623,\n",
              "         0.70734507,   9.6846649 ,   4.40880891,  26.27952044,\n",
              "         0.93934306,   4.28388421,   0.8037321 ,   1.29569042,\n",
              "         0.85344039,  11.45771492,   0.94944131,  32.25397222,\n",
              "        55.97056701,  54.56983828,  10.88145537,   2.97771488,\n",
              "         4.35877086,   1.36198625,   9.71758427,   2.83030205,\n",
              "        10.88144067,  26.41287377,   6.91749074,  51.4182445 ,\n",
              "        10.69458038,  20.01239957,   2.90811473,   8.6896645 ,\n",
              "         9.49123768,   7.28982942,   1.23519822,  76.96176164,\n",
              "         1.15327999,  29.74990372,  35.93345158,   2.33207503,\n",
              "         0.9958623 ,  58.21772892,   1.3698573 ,   1.55534315,\n",
              "         1.43605187,  47.73194254,  13.7805912 ,   1.65920958,\n",
              "         4.03742142,   7.95164816,  10.52915569,   1.66661011,\n",
              "         3.74094611,   0.75364558,   3.76529903,   1.64999157,\n",
              "         1.55107591,  23.39966273,   0.9983792 ,   0.79538695,\n",
              "        26.13751065,  64.48013607,   0.59693884,   6.08159685,\n",
              "         1.43126484,  48.62519456,   4.67559316,  13.19727921,\n",
              "        21.59233945,   1.49295383,  57.76053166,  16.58236481,\n",
              "         5.06936511,   2.27161741,  17.32049039,   1.07375455,\n",
              "         9.69628269,   1.3044376 ,   1.17223582,   1.26386888,\n",
              "        10.72353985,   1.77818641,   2.0397827 ,  26.29562062,\n",
              "         4.35913012,   1.39960939,  36.02197558,   4.06603455,\n",
              "         1.31830109,   2.40974677,   1.0553393 ,   2.56728199,\n",
              "         1.04938161,   6.49509018,   4.83628725,   5.37691046,\n",
              "        32.68415715,   1.5886785 ,   4.85545599,   5.58029794,\n",
              "         8.57422483,  13.57049584,   0.9886472 ,  16.39945854,\n",
              "        23.03489082,  18.84037339,  42.28189659,   1.20788802,\n",
              "         0.74886836,  10.04856238,   6.56824439,   4.34616979,\n",
              "         1.30600241,   4.48385961,   0.71631601,  17.00010558,\n",
              "        19.37256352,   0.99427047,   0.58218768,   1.24835425,\n",
              "        13.16228209,   4.42410523,   1.37877089,   0.73688667,\n",
              "        16.98309771,   4.76654283,   2.23371223,   1.17892643,\n",
              "         3.71576498,   0.96875178,  13.42262514,   4.55406063,\n",
              "         0.97038099,   2.58837723,   1.2173733 ,  10.51211683,\n",
              "         5.61685955,   1.2447733 ,   1.17565142,   1.61218708,\n",
              "        32.58165406,   0.47690462,   3.70032869,   0.751845  ,\n",
              "         0.88212315,  52.70774739,   1.46404841,   1.05435584,\n",
              "         1.64534477,   8.84628764,   0.76439878,  16.85903776,\n",
              "         2.14967635,   1.0101776 ,  23.1878205 ,  18.44812645,\n",
              "         6.29558319,  29.47302857,   1.761042  ,   6.41910801,\n",
              "         0.86476981,   6.7291473 ,  16.72317954,  45.61267905,\n",
              "         1.14495   ,   7.67369259,   0.94110854,   2.7360185 ,\n",
              "         4.43720511,  20.66593329,   9.10881262,  11.73785396,\n",
              "         1.17062157,   7.40323888,  32.26224134,   8.72411909,\n",
              "         6.12169452,   4.08135964,   9.17292037,  21.19750004,\n",
              "        64.2912038 ,   0.9130368 ,  64.38008958,   1.80955003,\n",
              "         0.88702575,  23.3824653 ,  16.45591887,   6.45403277,\n",
              "        32.71529323,   1.30811593,  13.14319243,   4.24437745,\n",
              "        10.91751382,  23.34182008,  17.9322497 ,  10.93999757,\n",
              "        17.28174717,  23.2721996 ,  54.62849851,  67.32741384,\n",
              "         1.69538882,  70.36348493,   3.18137096,   5.75096696,\n",
              "        26.65026182,   0.87663889,   5.41961866,   5.55046504,\n",
              "         0.84447804,  51.10394307,   1.7699946 ,   1.19658641,\n",
              "        29.79864823,  13.65044294,  51.52311859,  10.77093171,\n",
              "         4.52742515,   0.68772855,   1.45504908, 158.95849995,\n",
              "        13.95596826,  12.8777298 ,   7.14360574,  12.53823382,\n",
              "        11.30147938,  10.44850767,  45.45262277,  16.52421791,\n",
              "         1.67225286,   7.70571383,  25.27206854,   3.98176119,\n",
              "         4.80084628,   3.72545679,   3.17595485,   0.85864682,\n",
              "        11.55205928,  31.61966339,   1.3331525 ,   9.35207482,\n",
              "         5.96688389,   4.00609792,   1.29488041,  14.4665559 ,\n",
              "         1.91669489, 142.82652116,  17.58057909,   1.1154238 ,\n",
              "         1.53902837,   1.22454863,   3.27369765,  16.98924715,\n",
              "         0.84831203,   1.67833434,  16.93094053,   0.50661968,\n",
              "         1.47693234,   1.16886349,   1.46650547,   9.6971057 ,\n",
              "         6.81857296,  57.52664078,   1.11735157,   4.19366049,\n",
              "         3.04906229,  29.13652926,   0.98112074,   3.47478886,\n",
              "        32.68490626,   2.24046019,   5.22600513,   0.90910638,\n",
              "         2.21320617,  46.38968344,  92.31721142,   1.23830451,\n",
              "         0.86822997,  41.80613191,  12.58395081,   1.20789498,\n",
              "        15.56670719,   7.40517814,  16.49090912,  51.13020642,\n",
              "         4.65692385,  26.20207391,  15.41960031,  20.23029335,\n",
              "        76.60383837,  70.12178134,   1.50027799,  11.87561897,\n",
              "         1.18188108,  10.48307412,   1.19097282,   8.00883833,\n",
              "         4.63821644,  10.73400139,   0.90305098,  10.32711049,\n",
              "        35.92985342,   7.09864795,   1.00032587,   4.91909613,\n",
              "        11.0874204 ,   1.25377755,  95.76801665,   1.56111589,\n",
              "         1.01360604,  19.75915656,   4.44472695,   2.68328325,\n",
              "         0.99342749,  20.57436331,   1.59926283,   2.79061291,\n",
              "         8.96118309,   7.09263661,   5.53857333,   0.77139855,\n",
              "         1.35670076,   2.7222203 ,  20.09149368,  19.32584891,\n",
              "         7.3797545 ,  50.32971394,  17.2671321 ,   0.87172383,\n",
              "         1.96213513,   8.49599463,   3.20648296,   1.00794264,\n",
              "        15.30810599,  16.05174412,  21.40898126,   1.09853345,\n",
              "         1.95496228,  25.1023558 ,  22.93889507,   7.44120211,\n",
              "         0.90500627,   1.00685424,   4.23197779,  81.56579762,\n",
              "         8.90202193,   5.87945891,   1.06288485,  51.99236961,\n",
              "         3.38935055,   0.53066656,   5.37593291,   1.2192547 ,\n",
              "         0.66083296,   1.35920514,   1.70873984,   2.67904187,\n",
              "         7.70552547,  57.5326223 ,  13.32995011,  13.42184896,\n",
              "         0.75977105,   3.59137368,  15.79500557,   1.55886772,\n",
              "         3.80726325,   8.21702717,   4.51176868,  17.73325845,\n",
              "         0.82212769,  13.59547843,  26.32470039,   1.04917639,\n",
              "        13.88700372,  13.52572993,   7.59271088,  65.81084694,\n",
              "         1.57381247,  31.01212778,   1.06981435,   0.77544412,\n",
              "         8.89755457,  13.99846113,  39.05563919,   0.7040371 ,\n",
              "         1.15530554,   1.0578277 ,   4.3497338 ,  21.02689681,\n",
              "         1.1272068 ,   0.68083613,   3.94044936,  26.19935428,\n",
              "         0.78029492,   0.8637394 ,   3.45014049,  83.16121198,\n",
              "         3.92057752, 120.98915685,  20.27263597,  25.07965629,\n",
              "        22.93810028,   1.52296649,  11.17221029,  35.05969976,\n",
              "        36.83928249,   6.62498302,   4.01634405,  38.57502233,\n",
              "         4.81255068,   1.47243996,  60.21650281,  10.00995033,\n",
              "        39.02418897,   1.3940947 ,   3.3768332 ,   2.21899019,\n",
              "         1.94083696,  24.92915241,   8.97282562,  15.30984783,\n",
              "         8.9583144 ,  26.15014129,   1.26069568,  15.61634486,\n",
              "         1.13820713,  35.74800875,   1.05088476,   8.22045974,\n",
              "         1.28384106,  48.30605789,   2.30453869,   8.95142122,\n",
              "        10.95641468,   5.47991103,   1.272638  ,   1.23818869,\n",
              "         9.45628369,  29.78076377,  19.0331106 ,   8.47756607,\n",
              "         8.00764482,  27.75619684,  11.70275863,   3.66727474,\n",
              "        80.40318701,   2.84826464,   1.25007361,   1.382292  ,\n",
              "        32.74734421,  20.06263682,  26.16418449,  16.57588441,\n",
              "         3.08151015,  13.4681515 ,   4.80108163,  22.75091001,\n",
              "         2.49294458,  10.93400621,   1.226917  ,  16.71393002,\n",
              "        13.21905073,   1.3786179 ,  16.66874812,   7.40070235,\n",
              "         0.96428496,   4.16387924,  18.60298065,  27.1688489 ,\n",
              "        15.51444208,  12.91945745,  95.46381923,  51.315615  ,\n",
              "         0.88666677,   4.08586605,  22.79743257,  26.77059231,\n",
              "         1.02995231,  60.57907428,   0.74677231,   0.6002812 ,\n",
              "        44.15860636,   8.76019049,  17.18454711,  41.59126172,\n",
              "         1.75676612,  16.84231049,   5.11893999,   0.94675157,\n",
              "        31.7436349 ,   0.54486835,   4.3397853 ,  12.66367931,\n",
              "         1.19778238,   9.28675458,  42.01619884,  24.79639612,\n",
              "         8.17178834,  14.0366667 ,   0.87467083,   0.8951626 ,\n",
              "         0.69371165,  21.44794647,  13.97956541,   3.41134692,\n",
              "        13.80176962,   4.33859793,  20.2257894 ,   0.82786398,\n",
              "         1.83607195,   3.58430381,  27.23840976,   3.32967335])"
            ]
          },
          "metadata": {
            "tags": []
          },
          "execution_count": 60
        }
      ]
    },
    {
      "metadata": {
        "id": "stSKItWuMIP5",
        "colab_type": "code",
        "outputId": "620ee771-3db3-4008-b303-7394842d6747",
        "colab": {
          "base_uri": "https://localhost:8080/",
          "height": 51
        }
      },
      "cell_type": "code",
      "source": [
        "print(\"R2 Score:\", R.score(X_train, y_train))\n",
        "print(\"R2 Score:\", R.score(X_test, y_test))"
      ],
      "execution_count": 0,
      "outputs": [
        {
          "output_type": "stream",
          "text": [
            "R2 Score: -53.530820456874075\n",
            "R2 Score: -44.14852804278685\n"
          ],
          "name": "stdout"
        }
      ]
    }
  ]
}